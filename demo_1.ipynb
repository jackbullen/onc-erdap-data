{
 "cells": [
  {
   "cell_type": "code",
   "execution_count": 1,
   "metadata": {},
   "outputs": [],
   "source": [
    "from onc_erdap_data import get_available_datasets"
   ]
  },
  {
   "cell_type": "code",
   "execution_count": 2,
   "metadata": {},
   "outputs": [
    {
     "name": "stderr",
     "output_type": "stream",
     "text": [
      "Processing: |          | 1506.5/?       \n"
     ]
    }
   ],
   "source": [
    "datasets = get_available_datasets()"
   ]
  },
  {
   "cell_type": "code",
   "execution_count": 3,
   "metadata": {},
   "outputs": [],
   "source": [
    "import json\n",
    "with open('datasets.json', 'w') as f:\n",
    "    f.write(json.dumps(datasets))"
   ]
  },
  {
   "cell_type": "code",
   "execution_count": 18,
   "metadata": {},
   "outputs": [
    {
     "name": "stdout",
     "output_type": "stream",
     "text": [
      "scalars, num_datasets=1134\n",
      "------------------------\n",
      "title Barkley Canyon Axis Acoustic Doppler Current Profiler 600 kHz Deployed 2011-07-15 \n",
      "url http://dap.onc.uvic.ca/erddap/tabledap/scalar_118170.html\n",
      "parameters ['magnetic_heading', 'longitude', 'Sound_Speed', 'timeseries_id', 'pitch', 'temperature', 'pressure', 'latitude', 'time', 'roll', 'depth']\n",
      "start_date 2011-07-15T18:42:25\n",
      "end_date 2012-05-30T01:12:03\n",
      "\n",
      "mobiles, num_datasets=13\n",
      "------------------------\n",
      "title Oceanic Explorer Conductivity Temperature Depth Deployed 2021-03-23 \n",
      "url http://dap.onc.uvic.ca/erddap/tabledap/mobile_1208997.html\n",
      "parameters ['Temperature', 'longitude', 'sigmaT', 'timeseries_id', 'Sound_Speed', 'salinity', 'density', 'SIGMA_THETA', 'depth', 'latitude', 'cond', 'time', 'Pressure']\n",
      "start_date 2021-03-23T22:25:00\n",
      "end_date 2021-03-26T01:20:03\n",
      "\n",
      "surfaces, num_datasets=83\n",
      "------------------------\n",
      "title Horseshoe Bay - Departure Bay Ferry Route Oxygen Sensor Deployed 2015-06-01 \n",
      "url http://dap.onc.uvic.ca/erddap/tabledap/mobilesurface_1192073.html\n",
      "parameters ['longitude', 'Temperature', 'oxygen', 'timeseries_id', 'oxygen_corrected', 'latitude', 'oxygen_saturation', 'time', 'depth']\n",
      "start_date 2015-06-01T00:00:00\n",
      "end_date 2015-09-23T17:30:00\n",
      "\n",
      "currents, num_datasets=60\n",
      "------------------------\n",
      "title Barkley Canyon Axis Acoustic Doppler Current Profiler 600 kHz Deployed 2011-07-15 \n",
      "url http://dap.onc.uvic.ca/erddap/tabledap/currents_118170.html\n",
      "parameters ['deviceid', 'longitude', 'timeseries_id', 'depth', 'latitude', 'NorthwardSeaWaterVelocity', 'EastwardSeaWaterVelocity', 'hourofdate', 'time', 'UpwardSeaWaterVelocity']\n",
      "start_date 2011-07-15T18:42:25\n",
      "end_date 2012-05-30T01:12:03\n",
      "\n",
      "profiles, num_datasets=55\n",
      "------------------------\n",
      "title Barkley Upper Slope Carbon Dioxide Sensor Deployed 2012-05-28 \n",
      "url http://dap.onc.uvic.ca/erddap/tabledap/profile_118833.html\n",
      "parameters ['longitude', 'partial_pressure', 'timeseries_id', 'depth', 'latitude', 'time']\n",
      "start_date 2012-05-28T15:45:00\n",
      "end_date 2013-05-19T18:24:00\n",
      "\n"
     ]
    }
   ],
   "source": [
    "# Print the first dataset in each\n",
    "\n",
    "for dataset in datasets:\n",
    "    print(dataset, ', num_datasets=', len(datasets[dataset]), sep='')\n",
    "    print('-'*24)\n",
    "    dat = list(datasets[dataset].values())[0]\n",
    "    for entry in dat:\n",
    "        print(entry, dat[entry])\n",
    "    print()"
   ]
  }
 ],
 "metadata": {
  "kernelspec": {
   "display_name": "Python 3",
   "language": "python",
   "name": "python3"
  },
  "language_info": {
   "codemirror_mode": {
    "name": "ipython",
    "version": 3
   },
   "file_extension": ".py",
   "mimetype": "text/x-python",
   "name": "python",
   "nbconvert_exporter": "python",
   "pygments_lexer": "ipython3",
   "version": "3.10.13"
  }
 },
 "nbformat": 4,
 "nbformat_minor": 2
}
