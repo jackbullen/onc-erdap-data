{
 "cells": [
  {
   "cell_type": "code",
   "execution_count": 5,
   "metadata": {},
   "outputs": [],
   "source": [
    "from onc_erdap_data import get_dataset"
   ]
  },
  {
   "cell_type": "code",
   "execution_count": 1,
   "metadata": {},
   "outputs": [],
   "source": [
    "import json\n",
    "with open('datasets.json', 'r') as f:\n",
    "    data = json.load(f)"
   ]
  },
  {
   "cell_type": "code",
   "execution_count": 7,
   "metadata": {},
   "outputs": [],
   "source": [
    "df, units = get_dataset(data['scalars']['scalar_102'])"
   ]
  },
  {
   "cell_type": "code",
   "execution_count": 15,
   "metadata": {},
   "outputs": [
    {
     "data": {
      "text/html": [
       "<div>\n",
       "<style scoped>\n",
       "    .dataframe tbody tr th:only-of-type {\n",
       "        vertical-align: middle;\n",
       "    }\n",
       "\n",
       "    .dataframe tbody tr th {\n",
       "        vertical-align: top;\n",
       "    }\n",
       "\n",
       "    .dataframe thead th {\n",
       "        text-align: right;\n",
       "    }\n",
       "</style>\n",
       "<table border=\"1\" class=\"dataframe\">\n",
       "  <thead>\n",
       "    <tr style=\"text-align: right;\">\n",
       "      <th></th>\n",
       "      <th>longitude</th>\n",
       "      <th>timeseries_id</th>\n",
       "      <th>oxygen_corrected</th>\n",
       "      <th>latitude</th>\n",
       "      <th>time</th>\n",
       "      <th>depth</th>\n",
       "    </tr>\n",
       "  </thead>\n",
       "  <tbody>\n",
       "    <tr>\n",
       "      <th>0</th>\n",
       "      <td>-123.486142</td>\n",
       "      <td>scalar_102</td>\n",
       "      <td>2.067564</td>\n",
       "      <td>48.651203</td>\n",
       "      <td>2008-02-27 22:23:13.031000+00:00</td>\n",
       "      <td>96.0</td>\n",
       "    </tr>\n",
       "    <tr>\n",
       "      <th>1</th>\n",
       "      <td>-123.486142</td>\n",
       "      <td>scalar_102</td>\n",
       "      <td>2.384852</td>\n",
       "      <td>48.651203</td>\n",
       "      <td>2008-02-27 22:24:13.043000+00:00</td>\n",
       "      <td>96.0</td>\n",
       "    </tr>\n",
       "    <tr>\n",
       "      <th>2</th>\n",
       "      <td>-123.486142</td>\n",
       "      <td>scalar_102</td>\n",
       "      <td>2.406332</td>\n",
       "      <td>48.651203</td>\n",
       "      <td>2008-02-27 22:25:13.052000+00:00</td>\n",
       "      <td>96.0</td>\n",
       "    </tr>\n",
       "    <tr>\n",
       "      <th>3</th>\n",
       "      <td>-123.486142</td>\n",
       "      <td>scalar_102</td>\n",
       "      <td>2.432508</td>\n",
       "      <td>48.651203</td>\n",
       "      <td>2008-02-27 22:26:13.045000+00:00</td>\n",
       "      <td>96.0</td>\n",
       "    </tr>\n",
       "    <tr>\n",
       "      <th>4</th>\n",
       "      <td>-123.486142</td>\n",
       "      <td>scalar_102</td>\n",
       "      <td>2.069037</td>\n",
       "      <td>48.651203</td>\n",
       "      <td>2008-02-27 22:39:13.018000+00:00</td>\n",
       "      <td>96.0</td>\n",
       "    </tr>\n",
       "    <tr>\n",
       "      <th>...</th>\n",
       "      <td>...</td>\n",
       "      <td>...</td>\n",
       "      <td>...</td>\n",
       "      <td>...</td>\n",
       "      <td>...</td>\n",
       "      <td>...</td>\n",
       "    </tr>\n",
       "    <tr>\n",
       "      <th>301747</th>\n",
       "      <td>-123.486142</td>\n",
       "      <td>scalar_102</td>\n",
       "      <td>0.383532</td>\n",
       "      <td>48.651203</td>\n",
       "      <td>2008-09-26 23:55:34.211000+00:00</td>\n",
       "      <td>96.0</td>\n",
       "    </tr>\n",
       "    <tr>\n",
       "      <th>301748</th>\n",
       "      <td>-123.486142</td>\n",
       "      <td>scalar_102</td>\n",
       "      <td>0.383808</td>\n",
       "      <td>48.651203</td>\n",
       "      <td>2008-09-26 23:56:34.210000+00:00</td>\n",
       "      <td>96.0</td>\n",
       "    </tr>\n",
       "    <tr>\n",
       "      <th>301749</th>\n",
       "      <td>-123.486142</td>\n",
       "      <td>scalar_102</td>\n",
       "      <td>0.382415</td>\n",
       "      <td>48.651203</td>\n",
       "      <td>2008-09-26 23:57:34.211000+00:00</td>\n",
       "      <td>96.0</td>\n",
       "    </tr>\n",
       "    <tr>\n",
       "      <th>301750</th>\n",
       "      <td>-123.486142</td>\n",
       "      <td>scalar_102</td>\n",
       "      <td>0.381559</td>\n",
       "      <td>48.651203</td>\n",
       "      <td>2008-09-26 23:58:34.202000+00:00</td>\n",
       "      <td>96.0</td>\n",
       "    </tr>\n",
       "    <tr>\n",
       "      <th>301751</th>\n",
       "      <td>-123.486142</td>\n",
       "      <td>scalar_102</td>\n",
       "      <td>0.380991</td>\n",
       "      <td>48.651203</td>\n",
       "      <td>2008-09-26 23:59:34.199000+00:00</td>\n",
       "      <td>96.0</td>\n",
       "    </tr>\n",
       "  </tbody>\n",
       "</table>\n",
       "<p>301752 rows × 6 columns</p>\n",
       "</div>"
      ],
      "text/plain": [
       "         longitude timeseries_id  oxygen_corrected   latitude  \\\n",
       "0      -123.486142    scalar_102          2.067564  48.651203   \n",
       "1      -123.486142    scalar_102          2.384852  48.651203   \n",
       "2      -123.486142    scalar_102          2.406332  48.651203   \n",
       "3      -123.486142    scalar_102          2.432508  48.651203   \n",
       "4      -123.486142    scalar_102          2.069037  48.651203   \n",
       "...            ...           ...               ...        ...   \n",
       "301747 -123.486142    scalar_102          0.383532  48.651203   \n",
       "301748 -123.486142    scalar_102          0.383808  48.651203   \n",
       "301749 -123.486142    scalar_102          0.382415  48.651203   \n",
       "301750 -123.486142    scalar_102          0.381559  48.651203   \n",
       "301751 -123.486142    scalar_102          0.380991  48.651203   \n",
       "\n",
       "                                   time  depth  \n",
       "0      2008-02-27 22:23:13.031000+00:00   96.0  \n",
       "1      2008-02-27 22:24:13.043000+00:00   96.0  \n",
       "2      2008-02-27 22:25:13.052000+00:00   96.0  \n",
       "3      2008-02-27 22:26:13.045000+00:00   96.0  \n",
       "4      2008-02-27 22:39:13.018000+00:00   96.0  \n",
       "...                                 ...    ...  \n",
       "301747 2008-09-26 23:55:34.211000+00:00   96.0  \n",
       "301748 2008-09-26 23:56:34.210000+00:00   96.0  \n",
       "301749 2008-09-26 23:57:34.211000+00:00   96.0  \n",
       "301750 2008-09-26 23:58:34.202000+00:00   96.0  \n",
       "301751 2008-09-26 23:59:34.199000+00:00   96.0  \n",
       "\n",
       "[301752 rows x 6 columns]"
      ]
     },
     "execution_count": 15,
     "metadata": {},
     "output_type": "execute_result"
    }
   ],
   "source": [
    "df"
   ]
  },
  {
   "cell_type": "code",
   "execution_count": 9,
   "metadata": {},
   "outputs": [],
   "source": [
    "import pandas as pd"
   ]
  },
  {
   "cell_type": "code",
   "execution_count": 12,
   "metadata": {},
   "outputs": [],
   "source": [
    "df['time'] = pd.to_datetime(df['time'])"
   ]
  },
  {
   "cell_type": "code",
   "execution_count": 14,
   "metadata": {},
   "outputs": [
    {
     "data": {
      "text/plain": [
       "<Axes: xlabel='time'>"
      ]
     },
     "execution_count": 14,
     "metadata": {},
     "output_type": "execute_result"
    },
    {
     "data": {
      "image/png": "[encoded data removed]",
      "text/plain": [
       "<Figure size 640x480 with 1 Axes>"
      ]
     },
     "metadata": {},
     "output_type": "display_data"
    }
   ],
   "source": [
    "df.plot(x='time', y='oxygen_corrected', kind='line')"
   ]
  }
 ],
 "metadata": {
  "kernelspec": {
   "display_name": "Python 3",
   "language": "python",
   "name": "python3"
  },
  "language_info": {
   "codemirror_mode": {
    "name": "ipython",
    "version": 3
   },
   "file_extension": ".py",
   "mimetype": "text/x-python",
   "name": "python",
   "nbconvert_exporter": "python",
   "pygments_lexer": "ipython3",
   "version": "3.10.13"
  }
 },
 "nbformat": 4,
 "nbformat_minor": 2
}
