{
 "cells": [
  {
   "cell_type": "code",
   "execution_count": null,
   "metadata": {},
   "outputs": [],
   "source": [
    "from onc_erdap_data import get_dataset\n",
    "import json\n",
    "import datetime as dt"
   ]
  },
  {
   "cell_type": "code",
   "execution_count": null,
   "metadata": {},
   "outputs": [],
   "source": [
    "with open('datasets.json', 'r') as f:\n",
    "    datasets = json.load(f)\n",
    "datasets.keys()"
   ]
  },
  {
   "cell_type": "markdown",
   "metadata": {},
   "source": [
    "# Download the last 4 hours of each dataset ..."
   ]
  },
  {
   "cell_type": "markdown",
   "metadata": {},
   "source": [
    "# Scalars"
   ]
  },
  {
   "cell_type": "code",
   "execution_count": null,
   "metadata": {},
   "outputs": [],
   "source": [
    "# Scalars has the most datasets, so it takes a while. The others are all less than 2-3 minutes.\n",
    "\n",
    "for id, dataset in datasets['scalars'].items():\n",
    "    end = dataset['end_date']\n",
    "    end = dt.datetime.fromisoformat(end)\n",
    "    start = (end - dt.timedelta(hours=4.20)).isoformat()\n",
    "    df, units = get_dataset(dataset, start=start)\n",
    "    df.to_csv(f'scalars/{id}.csv')"
   ]
  },
  {
   "cell_type": "markdown",
   "metadata": {},
   "source": [
    "# Mobiles"
   ]
  },
  {
   "cell_type": "code",
   "execution_count": null,
   "metadata": {},
   "outputs": [],
   "source": [
    "for id, dataset in datasets['mobiles'].items():\n",
    "    end = dataset['end_date']\n",
    "    end = dt.datetime.fromisoformat(end)\n",
    "    start = (end - dt.timedelta(hours=4.20)).isoformat()\n",
    "    df, units = get_dataset(dataset, start=start)\n",
    "    df.to_csv(f'mobiles/{id}.csv')"
   ]
  },
  {
   "cell_type": "markdown",
   "metadata": {},
   "source": [
    "# Surfaces"
   ]
  },
  {
   "cell_type": "code",
   "execution_count": null,
   "metadata": {},
   "outputs": [],
   "source": [
    "for id, dataset in datasets['surfaces'].items():\n",
    "    end = dataset['end_date']\n",
    "    end = dt.datetime.fromisoformat(end)\n",
    "    start = (end - dt.timedelta(hours=4.20)).isoformat()\n",
    "    df, units = get_dataset(dataset, start=start)\n",
    "    df.to_csv(f'surfaces/{id}.csv')"
   ]
  },
  {
   "cell_type": "markdown",
   "metadata": {},
   "source": [
    "# Currents"
   ]
  },
  {
   "cell_type": "code",
   "execution_count": null,
   "metadata": {},
   "outputs": [],
   "source": [
    "for id, dataset in datasets['currents'].items():\n",
    "    end = dataset['end_date']\n",
    "    end = dt.datetime.fromisoformat(end)\n",
    "    start = (end - dt.timedelta(hours=4.20)).isoformat()\n",
    "    df, units = get_dataset(dataset, start=start)\n",
    "    df.to_csv(f'currents/{id}.csv')"
   ]
  },
  {
   "cell_type": "markdown",
   "metadata": {},
   "source": [
    "# Profiles"
   ]
  },
  {
   "cell_type": "code",
   "execution_count": null,
   "metadata": {},
   "outputs": [],
   "source": [
    "for id, dataset in datasets['profiles'].items():\n",
    "    end = dataset['end_date']\n",
    "    end = dt.datetime.fromisoformat(end)\n",
    "    start = (end - dt.timedelta(hours=4.20)).isoformat()\n",
    "    df, units = get_dataset(dataset, start=start)\n",
    "    df.to_csv(f'profiles/{id}.csv')"
   ]
  },
  {
   "cell_type": "markdown",
   "metadata": {},
   "source": [
    "# Organizing csv files based on header"
   ]
  },
  {
   "cell_type": "code",
   "execution_count": null,
   "metadata": {},
   "outputs": [],
   "source": [
    "import os"
   ]
  },
  {
   "cell_type": "code",
   "execution_count": null,
   "metadata": {},
   "outputs": [],
   "source": [
    "for _,dirs,files in os.walk('.'):\n",
    "    types = []\n",
    "    for file in files:\n",
    "        with open('data/'+file) as f:\n",
    "            types.append(f.readline())"
   ]
  },
  {
   "cell_type": "code",
   "execution_count": null,
   "metadata": {},
   "outputs": [],
   "source": [
    "# Create folders for CSV files with same column names\n",
    "\n",
    "FOLDER_NAMES = ['currents', 'mobiles', 'profiles', 'scalars', 'surfaces']\n",
    "\n",
    "for folder_name in FOLDER_NAMES:\n",
    "    for _,_,files in os.walk(f'./{folder_name}'):\n",
    "        types = []\n",
    "        for file in files:\n",
    "            with open(folder_name+'/'+file) as f:\n",
    "                types.append(f.readline())\n",
    "        for type in set(types):\n",
    "            text = f'{folder_name}/{\"_\".join(type.split(\",\")[-5:])}'.strip('\\n')\n",
    "            if type.startswith(',Error {') or type.startswith(',,Error {'):\n",
    "                continue\n",
    "            if \"_\".join(type.split(\",\")[-5:])!='':\n",
    "                os.system(f'rm -rf {text}')\n",
    "                os.makedirs(text)"
   ]
  },
  {
   "cell_type": "code",
   "execution_count": null,
   "metadata": {},
   "outputs": [],
   "source": [
    "# Move CSV files into created folders\n",
    "\n",
    "for folder_name in FOLDER_NAMES:\n",
    "    for _,_,files in os.walk(f'./{folder_name}'):\n",
    "        for file in files:\n",
    "            with open(folder_name+'/'+file) as f:\n",
    "                attrs = f.readline()\n",
    "            text = f'{folder_name}/{\"_\".join(type.split(\",\")[-5:])}'.strip('\\n')\n",
    "            if file.endswith('csv'):\n",
    "                os.system(f'mv {folder_name}/{file} {\"_\".join(type.split(\",\")[-5:])}'.strip('\\n'))"
   ]
  }
 ],
 "metadata": {
  "kernelspec": {
   "display_name": "Python 3",
   "language": "python",
   "name": "python3"
  },
  "language_info": {
   "codemirror_mode": {
    "name": "ipython",
    "version": 3
   },
   "file_extension": ".py",
   "mimetype": "text/x-python",
   "name": "python",
   "nbconvert_exporter": "python",
   "pygments_lexer": "ipython3",
   "version": "3.10.13"
  }
 },
 "nbformat": 4,
 "nbformat_minor": 2
}
